{
 "cells": [
  {
   "cell_type": "code",
   "execution_count": null,
   "metadata": {},
   "outputs": [],
   "source": [
    "# import os\n",
    "# import pandas as pd\n",
    "# from pandas import ExcelWriter\n",
    "# from pandas import ExcelFile\n",
    "\n",
    "# import random as rnd\n",
    "# import matplotlib.pyplot as plt\n",
    "# from matplotlib.widgets import Button\n",
    "# from matplotlib.text import Annotation\n"
   ]
  },
  {
   "cell_type": "code",
   "execution_count": null,
   "metadata": {},
   "outputs": [],
   "source": [
    "# # Test 1\n",
    "# labels_color_map = {0: 'red', 1: \"blue\"}\n",
    "# no_examples = 20\n",
    "\n",
    "# generated_data = [(x, rnd.randint(0, no_examples)) for x in range(0, no_examples)]\n",
    "# generated_labels = [\"Label for instance #{0}\".format(i) for i in range(0, no_examples)]\n",
    "\n",
    "# instances_colors = []\n",
    "# axis_values_x = []\n",
    "# axis_values_y = []\n",
    "\n",
    "# for index, instance in enumerate(generated_data):\n",
    "#     coordinate_x, coordinate_y = instance\n",
    "#     color = labels_color_map[index % 2]\n",
    "    \n",
    "#     instances_colors.append(color)\n",
    "#     axis_values_x.append(coordinate_x)\n",
    "#     axis_values_y.append(coordinate_y)\n",
    "    \n",
    "# fig = plt.figure(figsize=(5,4))\n",
    "# ax = plt.subplot()\n",
    "\n",
    "# def draw_scatterplot():\n",
    "#     ax.scatter(\n",
    "#         axis_values_x,\n",
    "#         axis_values_y,\n",
    "#         c=instances_colors,\n",
    "#         picker=True\n",
    "#     )\n",
    "\n",
    "# draw_scatterplot()\n",
    "    \n",
    "# # def annotate(axis, text, x,y):\n",
    "# #     text_annotation = Annotation(text, xy=(x,y), xycoords=\"data\")\n",
    "# #     axis.add_artist(text_annotation)\n",
    "    \n",
    "# # annotate(axis, text, x,y)\n",
    "    \n",
    "# def onpick(event):\n",
    "#     ind = event.ind\n",
    "#     label_pos_x = event.mouseevent.xdata\n",
    "#     label_pos_y = event.mouseevent.ydata\n",
    "#     offset = 0\n",
    "    \n",
    "#     for i in ind:\n",
    "#         label = generated_labels[i]\n",
    "#         print(\"index\", i, label)\n",
    "#         annotate(\n",
    "#             ax,\n",
    "#             label,\n",
    "#             label_pos_x + offset,\n",
    "#             label_pos_y + offset)\n",
    "#         ax.figure.canvas.draw_idle()\n",
    "#         offset += 0.01\n",
    "\n",
    "        \n",
    "# fig.canvas.mpl_connect('button_press_event', onpick)\n",
    "\n",
    "\n",
    "# ax_clear_all = plt.axes([0.0, 0.0, 0.5, 0.05])\n",
    "# button_clear_all = Button(ax_clear_all, \"Click Here to Clear all\")\n",
    "\n",
    "# def onclick(event):\n",
    "#     ax.cla\n",
    "#     draw_scatterplt()\n",
    "#     ax.figure.canvas.draw_idle()\n",
    "    \n",
    "# button_clear_all.on_clicked(onclick)\n",
    "\n",
    "# plt.plot()\n",
    "# plt.show"
   ]
  },
  {
   "cell_type": "code",
   "execution_count": 1,
   "metadata": {},
   "outputs": [
    {
     "data": {
      "image/png": "[encoded data removed]",
      "text/plain": [
       "<Figure size 432x288 with 1 Axes>"
      ]
     },
     "metadata": {
      "needs_background": "light"
     },
     "output_type": "display_data"
    }
   ],
   "source": [
    "# EXAMPLE 2\n",
    "\n",
    "import matplotlib.pyplot as plt\n",
    "import numpy as np; np.random.seed(1)\n",
    "\n",
    "x = np.random.rand(5)\n",
    "y = np.random.rand(5)\n",
    "names = np.array(list(\"ABCDEFGHIJKLMNO\"))\n",
    "c = np.random.randint(1,5,size=5)\n",
    "\n",
    "norm = plt.Normalize(1,4)\n",
    "cmap = plt.cm.RdYlGn\n",
    "\n",
    "fig,ax = plt.subplots()\n",
    "sc = plt.scatter(x,y,c=c, s=100, cmap=cmap, norm=norm)\n",
    "\n",
    "annot = ax.annotate(\"\", xy=(0,0), xytext=(20,20),textcoords=\"offset points\",\n",
    "                    bbox=dict(boxstyle=\"round\", fc=\"w\"),\n",
    "                    arrowprops=dict(arrowstyle=\"->\"))\n",
    "annot.set_visible(False)\n",
    "\n",
    "def update_annot(ind):\n",
    "\n",
    "    pos = sc.get_offsets()[ind[\"ind\"][0]]\n",
    "    annot.xy = pos\n",
    "    text = \"{}, {}\".format(\" \".join(list(map(str,ind[\"ind\"]))), \n",
    "                           \" \".join([names[n] for n in ind[\"ind\"]]))\n",
    "    annot.set_text(text)\n",
    "    annot.get_bbox_patch().set_facecolor(cmap(norm(c[ind[\"ind\"][0]])))\n",
    "    annot.get_bbox_patch().set_alpha(0.4)\n",
    "\n",
    "def hover(event):\n",
    "    vis = annot.get_visible()\n",
    "    if event.inaxes == ax:\n",
    "        cont, ind = sc.contains(event)\n",
    "        if cont:\n",
    "            update_annot(ind)\n",
    "            annot.set_visible(True)\n",
    "            fig.canvas.draw_idle()\n",
    "        else:\n",
    "            if vis:\n",
    "                annot.set_visible(False)\n",
    "                fig.canvas.draw_idle()\n",
    "\n",
    "fig.canvas.mpl_connect(\"motion_notify_event\", hover)\n",
    "\n",
    "plt.show()"
   ]
  },
  {
   "cell_type": "code",
   "execution_count": 20,
   "metadata": {
    "scrolled": false
   },
   "outputs": [
    {
     "data": {
      "image/png": "[encoded data removed]",
      "text/plain": [
       "<Figure size 432x288 with 1 Axes>"
      ]
     },
     "metadata": {
      "needs_background": "light"
     },
     "output_type": "display_data"
    }
   ],
   "source": [
    "x = range(10)\n",
    "y = range(10)\n",
    "annotes = ['a', 'b', 'c', 'd', 'e', 'f', 'g', 'h', 'i', 'j']\n",
    "\n",
    "fig, ax = plt.subplots()\n",
    "ax.scatter(x,y)\n",
    "af =  AnnoteFinder(x,y, annotes, ax=ax)\n",
    "fig.canvas.mpl_connect('button_press_event', af)\n",
    "plt.show()"
   ]
  },
  {
   "cell_type": "code",
   "execution_count": null,
   "metadata": {},
   "outputs": [],
   "source": []
  }
 ],
 "metadata": {
  "kernelspec": {
   "display_name": "Python 3",
   "language": "python",
   "name": "python3"
  },
  "language_info": {
   "codemirror_mode": {
    "name": "ipython",
    "version": 3
   },
   "file_extension": ".py",
   "mimetype": "text/x-python",
   "name": "python",
   "nbconvert_exporter": "python",
   "pygments_lexer": "ipython3",
   "version": "3.7.6"
  }
 },
 "nbformat": 4,
 "nbformat_minor": 2
}
