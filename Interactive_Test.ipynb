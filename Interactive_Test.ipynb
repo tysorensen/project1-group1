{
 "cells": [
  {
   "cell_type": "code",
   "execution_count": 15,
   "metadata": {},
   "outputs": [],
   "source": [
    "import os\n",
    "import pandas as pd\n",
    "from pandas import ExcelWriter\n",
    "from pandas import ExcelFile\n",
    "\n",
    "import random as rnd\n",
    "import matplotlib.pyplot as plt\n",
    "from matplotlib.widgets import Button\n",
    "from matplotlib.text import Annotation\n"
   ]
  },
  {
   "cell_type": "code",
   "execution_count": 19,
   "metadata": {},
   "outputs": [
    {
     "data": {
      "text/plain": [
       "<function matplotlib.pyplot.show(*args, **kw)>"
      ]
     },
     "execution_count": 19,
     "metadata": {},
     "output_type": "execute_result"
    },
    {
     "data": {
      "image/png": "[encoded data removed]",
      "text/plain": [
       "<Figure size 360x288 with 2 Axes>"
      ]
     },
     "metadata": {},
     "output_type": "display_data"
    }
   ],
   "source": [
    "labels_color_map = {0: 'red', 1: \"blue\"}\n",
    "no_examples = 20\n",
    "\n",
    "generated_data = [(x, rnd.randint(0, no_examples)) for x in range(0, no_examples)]\n",
    "generated_labels = [\"Label for instance #{0}\".format(i) for i in range(0, no_examples)]\n",
    "\n",
    "instances_colors = []\n",
    "axis_values_x = []\n",
    "axis_values_y = []\n",
    "\n",
    "for index, instance in enumerate(generated_data):\n",
    "    coordinate_x, coordinate_y = instance\n",
    "    color = labels_color_map[index % 2]\n",
    "    \n",
    "    instances_colors.append(color)\n",
    "    axis_values_x.append(coordinate_x)\n",
    "    axis_values_y.append(coordinate_y)\n",
    "    \n",
    "fig = plt.figure(figsize=(5,4))\n",
    "ax = plt.subplot()\n",
    "\n",
    "def draw_scatterplot():\n",
    "    ax.scatter(\n",
    "        axis_values_x,\n",
    "        axis_values_y,\n",
    "        c=instances_colors,\n",
    "        picker=True\n",
    "    )\n",
    "\n",
    "draw_scatterplot()\n",
    "    \n",
    "# def annotate(axis, text, x,y):\n",
    "#     text_annotation = Annotation(text, xy=(x,y), xycoords=\"data\")\n",
    "#     axis.add_artist(text_annotation)\n",
    "    \n",
    "# annotate(axis, text, x,y)\n",
    "    \n",
    "def onpick(event):\n",
    "    ind = event.ind\n",
    "    label_pos_x = event.mouseevent.xdata\n",
    "    label_pos_y = event.mouseevent.ydata\n",
    "    offset = 0\n",
    "    \n",
    "    for i in ind:\n",
    "        label = generated_labels[i]\n",
    "        print(\"index\", i, label)\n",
    "        annotate(\n",
    "            ax,\n",
    "            label,\n",
    "            label_pos_x + offset,\n",
    "            label_pos_y + offset)\n",
    "        ax.figure.canvas.draw_idle()\n",
    "        offset += 0.01\n",
    "\n",
    "        \n",
    "fig.canvas.mpl_connect('button_press_event', onpick)\n",
    "\n",
    "\n",
    "ax_clear_all = plt.axes([0.0, 0.0, 0.5, 0.05])\n",
    "button_clear_all = Button(ax_clear_all, \"Click Here to Clear all\")\n",
    "\n",
    "def onclick(event):\n",
    "    ax.cla\n",
    "    draw_scatterplt()\n",
    "    ax.figure.canvas.draw_idle()\n",
    "    \n",
    "button_clear_all.on_clicked(onclick)\n",
    "\n",
    "plt.plot()\n",
    "plt.show"
   ]
  },
  {
   "cell_type": "code",
   "execution_count": null,
   "metadata": {},
   "outputs": [],
   "source": []
  }
 ],
 "metadata": {
  "kernelspec": {
   "display_name": "Python 3",
   "language": "python",
   "name": "python3"
  },
  "language_info": {
   "codemirror_mode": {
    "name": "ipython",
    "version": 3
   },
   "file_extension": ".py",
   "mimetype": "text/x-python",
   "name": "python",
   "nbconvert_exporter": "python",
   "pygments_lexer": "ipython3",
   "version": "3.7.6"
  }
 },
 "nbformat": 4,
 "nbformat_minor": 2
}
