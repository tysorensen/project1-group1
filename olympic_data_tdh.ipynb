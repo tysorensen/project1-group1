{
 "cells": [
  {
   "cell_type": "code",
   "execution_count": 43,
   "metadata": {},
   "outputs": [],
   "source": [
    "# Dependencies\n",
    "import numpy as np\n",
    "import pandas as pd\n",
    "import matplotlib.pyplot as plt\n",
    "import scipy.stats as sts\n",
    "import math"
   ]
  },
  {
   "cell_type": "code",
   "execution_count": 2,
   "metadata": {},
   "outputs": [
    {
     "data": {
      "text/html": [
       "<div>\n",
       "<style scoped>\n",
       "    .dataframe tbody tr th:only-of-type {\n",
       "        vertical-align: middle;\n",
       "    }\n",
       "\n",
       "    .dataframe tbody tr th {\n",
       "        vertical-align: top;\n",
       "    }\n",
       "\n",
       "    .dataframe thead th {\n",
       "        text-align: right;\n",
       "    }\n",
       "</style>\n",
       "<table border=\"1\" class=\"dataframe\">\n",
       "  <thead>\n",
       "    <tr style=\"text-align: right;\">\n",
       "      <th></th>\n",
       "      <th>ID</th>\n",
       "      <th>Name</th>\n",
       "      <th>Sex</th>\n",
       "      <th>Age</th>\n",
       "      <th>Height</th>\n",
       "      <th>Weight</th>\n",
       "      <th>Team</th>\n",
       "      <th>NOC</th>\n",
       "      <th>Games</th>\n",
       "      <th>Year</th>\n",
       "      <th>Season</th>\n",
       "      <th>City</th>\n",
       "      <th>Sport</th>\n",
       "      <th>Event</th>\n",
       "      <th>Medal</th>\n",
       "    </tr>\n",
       "  </thead>\n",
       "  <tbody>\n",
       "    <tr>\n",
       "      <th>0</th>\n",
       "      <td>1</td>\n",
       "      <td>A Dijiang</td>\n",
       "      <td>M</td>\n",
       "      <td>24.0</td>\n",
       "      <td>180.0</td>\n",
       "      <td>80.0</td>\n",
       "      <td>China</td>\n",
       "      <td>CHN</td>\n",
       "      <td>1992 Summer</td>\n",
       "      <td>1992</td>\n",
       "      <td>Summer</td>\n",
       "      <td>Barcelona</td>\n",
       "      <td>Basketball</td>\n",
       "      <td>Basketball Men's Basketball</td>\n",
       "      <td>NaN</td>\n",
       "    </tr>\n",
       "    <tr>\n",
       "      <th>1</th>\n",
       "      <td>2</td>\n",
       "      <td>A Lamusi</td>\n",
       "      <td>M</td>\n",
       "      <td>23.0</td>\n",
       "      <td>170.0</td>\n",
       "      <td>60.0</td>\n",
       "      <td>China</td>\n",
       "      <td>CHN</td>\n",
       "      <td>2012 Summer</td>\n",
       "      <td>2012</td>\n",
       "      <td>Summer</td>\n",
       "      <td>London</td>\n",
       "      <td>Judo</td>\n",
       "      <td>Judo Men's Extra-Lightweight</td>\n",
       "      <td>NaN</td>\n",
       "    </tr>\n",
       "    <tr>\n",
       "      <th>2</th>\n",
       "      <td>3</td>\n",
       "      <td>Gunnar Nielsen Aaby</td>\n",
       "      <td>M</td>\n",
       "      <td>24.0</td>\n",
       "      <td>NaN</td>\n",
       "      <td>NaN</td>\n",
       "      <td>Denmark</td>\n",
       "      <td>DEN</td>\n",
       "      <td>1920 Summer</td>\n",
       "      <td>1920</td>\n",
       "      <td>Summer</td>\n",
       "      <td>Antwerpen</td>\n",
       "      <td>Football</td>\n",
       "      <td>Football Men's Football</td>\n",
       "      <td>NaN</td>\n",
       "    </tr>\n",
       "    <tr>\n",
       "      <th>3</th>\n",
       "      <td>4</td>\n",
       "      <td>Edgar Lindenau Aabye</td>\n",
       "      <td>M</td>\n",
       "      <td>34.0</td>\n",
       "      <td>NaN</td>\n",
       "      <td>NaN</td>\n",
       "      <td>Denmark/Sweden</td>\n",
       "      <td>DEN</td>\n",
       "      <td>1900 Summer</td>\n",
       "      <td>1900</td>\n",
       "      <td>Summer</td>\n",
       "      <td>Paris</td>\n",
       "      <td>Tug-Of-War</td>\n",
       "      <td>Tug-Of-War Men's Tug-Of-War</td>\n",
       "      <td>Gold</td>\n",
       "    </tr>\n",
       "    <tr>\n",
       "      <th>4</th>\n",
       "      <td>5</td>\n",
       "      <td>Christine Jacoba Aaftink</td>\n",
       "      <td>F</td>\n",
       "      <td>21.0</td>\n",
       "      <td>185.0</td>\n",
       "      <td>82.0</td>\n",
       "      <td>Netherlands</td>\n",
       "      <td>NED</td>\n",
       "      <td>1988 Winter</td>\n",
       "      <td>1988</td>\n",
       "      <td>Winter</td>\n",
       "      <td>Calgary</td>\n",
       "      <td>Speed Skating</td>\n",
       "      <td>Speed Skating Women's 500 metres</td>\n",
       "      <td>NaN</td>\n",
       "    </tr>\n",
       "  </tbody>\n",
       "</table>\n",
       "</div>"
      ],
      "text/plain": [
       "   ID                      Name Sex   Age  Height  Weight            Team  \\\n",
       "0   1                 A Dijiang   M  24.0   180.0    80.0           China   \n",
       "1   2                  A Lamusi   M  23.0   170.0    60.0           China   \n",
       "2   3       Gunnar Nielsen Aaby   M  24.0     NaN     NaN         Denmark   \n",
       "3   4      Edgar Lindenau Aabye   M  34.0     NaN     NaN  Denmark/Sweden   \n",
       "4   5  Christine Jacoba Aaftink   F  21.0   185.0    82.0     Netherlands   \n",
       "\n",
       "   NOC        Games  Year  Season       City          Sport  \\\n",
       "0  CHN  1992 Summer  1992  Summer  Barcelona     Basketball   \n",
       "1  CHN  2012 Summer  2012  Summer     London           Judo   \n",
       "2  DEN  1920 Summer  1920  Summer  Antwerpen       Football   \n",
       "3  DEN  1900 Summer  1900  Summer      Paris     Tug-Of-War   \n",
       "4  NED  1988 Winter  1988  Winter    Calgary  Speed Skating   \n",
       "\n",
       "                              Event Medal  \n",
       "0       Basketball Men's Basketball   NaN  \n",
       "1      Judo Men's Extra-Lightweight   NaN  \n",
       "2           Football Men's Football   NaN  \n",
       "3       Tug-Of-War Men's Tug-Of-War  Gold  \n",
       "4  Speed Skating Women's 500 metres   NaN  "
      ]
     },
     "execution_count": 2,
     "metadata": {},
     "output_type": "execute_result"
    }
   ],
   "source": [
    "# File to Load\n",
    "olympic_csv = \"resources/athlete_events.csv\"\n",
    "\n",
    "# Read .csv File and store into Pandas data frame\n",
    "olympic_raw_df = pd.read_csv(olympic_csv)\n",
    "olympic_raw_df.head()"
   ]
  },
  {
   "cell_type": "code",
   "execution_count": 3,
   "metadata": {},
   "outputs": [
    {
     "data": {
      "text/plain": [
       "Games\n",
       "1896 Summer      380\n",
       "1900 Summer     1936\n",
       "1904 Summer     1301\n",
       "1906 Summer     1733\n",
       "1908 Summer     3101\n",
       "1912 Summer     4040\n",
       "1920 Summer     4292\n",
       "1924 Summer     5233\n",
       "1924 Winter      460\n",
       "1928 Summer     4992\n",
       "1928 Winter      582\n",
       "1932 Summer     2969\n",
       "1932 Winter      352\n",
       "1936 Summer     6506\n",
       "1936 Winter      895\n",
       "1948 Summer     6405\n",
       "1948 Winter     1075\n",
       "1952 Summer     8270\n",
       "1952 Winter     1088\n",
       "1956 Summer     5127\n",
       "1956 Winter     1307\n",
       "1960 Summer     8119\n",
       "1960 Winter     1116\n",
       "1964 Summer     7702\n",
       "1964 Winter     1778\n",
       "1968 Summer     8588\n",
       "1968 Winter     1891\n",
       "1972 Summer    10304\n",
       "1972 Winter     1655\n",
       "1976 Summer     8641\n",
       "1976 Winter     1861\n",
       "1980 Summer     7191\n",
       "1980 Winter     1746\n",
       "1984 Summer     9454\n",
       "1984 Winter     2134\n",
       "1988 Summer    12037\n",
       "1988 Winter     2639\n",
       "1992 Summer    12977\n",
       "1992 Winter     3436\n",
       "1994 Winter     3160\n",
       "1996 Summer    13780\n",
       "1998 Winter     3605\n",
       "2000 Summer    13821\n",
       "2002 Winter     4109\n",
       "2004 Summer    13443\n",
       "2006 Winter     4382\n",
       "2008 Summer    13602\n",
       "2010 Winter     4402\n",
       "2012 Summer    12920\n",
       "2014 Winter     4891\n",
       "2016 Summer    13688\n",
       "Name: Name, dtype: int64"
      ]
     },
     "execution_count": 3,
     "metadata": {},
     "output_type": "execute_result"
    }
   ],
   "source": [
    "# Find the number of participants in each games.\n",
    "participants = olympic_raw_df.groupby(\"Games\")[\"Name\"].count()\n",
    "participants"
   ]
  },
  {
   "cell_type": "code",
   "execution_count": 4,
   "metadata": {},
   "outputs": [
    {
     "data": {
      "text/plain": [
       "array(['China', 'Denmark', 'Denmark/Sweden', ..., 'Solos Carex',\n",
       "       'Dow Jones', 'Digby'], dtype=object)"
      ]
     },
     "execution_count": 4,
     "metadata": {},
     "output_type": "execute_result"
    }
   ],
   "source": [
    "# Explore unique values for teams.\n",
    "olympic_raw_df[\"Team\"].unique()"
   ]
  },
  {
   "cell_type": "code",
   "execution_count": 5,
   "metadata": {},
   "outputs": [
    {
     "data": {
      "text/html": [
       "<div>\n",
       "<style scoped>\n",
       "    .dataframe tbody tr th:only-of-type {\n",
       "        vertical-align: middle;\n",
       "    }\n",
       "\n",
       "    .dataframe tbody tr th {\n",
       "        vertical-align: top;\n",
       "    }\n",
       "\n",
       "    .dataframe thead th {\n",
       "        text-align: right;\n",
       "    }\n",
       "</style>\n",
       "<table border=\"1\" class=\"dataframe\">\n",
       "  <thead>\n",
       "    <tr style=\"text-align: right;\">\n",
       "      <th></th>\n",
       "      <th>ID</th>\n",
       "      <th>Age</th>\n",
       "      <th>Height</th>\n",
       "      <th>Weight</th>\n",
       "      <th>Year</th>\n",
       "    </tr>\n",
       "  </thead>\n",
       "  <tbody>\n",
       "    <tr>\n",
       "      <th>count</th>\n",
       "      <td>271116.000000</td>\n",
       "      <td>261642.000000</td>\n",
       "      <td>210945.000000</td>\n",
       "      <td>208241.000000</td>\n",
       "      <td>271116.000000</td>\n",
       "    </tr>\n",
       "    <tr>\n",
       "      <th>mean</th>\n",
       "      <td>68248.954396</td>\n",
       "      <td>25.556898</td>\n",
       "      <td>175.338970</td>\n",
       "      <td>70.702393</td>\n",
       "      <td>1978.378480</td>\n",
       "    </tr>\n",
       "    <tr>\n",
       "      <th>std</th>\n",
       "      <td>39022.286345</td>\n",
       "      <td>6.393561</td>\n",
       "      <td>10.518462</td>\n",
       "      <td>14.348020</td>\n",
       "      <td>29.877632</td>\n",
       "    </tr>\n",
       "    <tr>\n",
       "      <th>min</th>\n",
       "      <td>1.000000</td>\n",
       "      <td>10.000000</td>\n",
       "      <td>127.000000</td>\n",
       "      <td>25.000000</td>\n",
       "      <td>1896.000000</td>\n",
       "    </tr>\n",
       "    <tr>\n",
       "      <th>25%</th>\n",
       "      <td>34643.000000</td>\n",
       "      <td>21.000000</td>\n",
       "      <td>168.000000</td>\n",
       "      <td>60.000000</td>\n",
       "      <td>1960.000000</td>\n",
       "    </tr>\n",
       "    <tr>\n",
       "      <th>50%</th>\n",
       "      <td>68205.000000</td>\n",
       "      <td>24.000000</td>\n",
       "      <td>175.000000</td>\n",
       "      <td>70.000000</td>\n",
       "      <td>1988.000000</td>\n",
       "    </tr>\n",
       "    <tr>\n",
       "      <th>75%</th>\n",
       "      <td>102097.250000</td>\n",
       "      <td>28.000000</td>\n",
       "      <td>183.000000</td>\n",
       "      <td>79.000000</td>\n",
       "      <td>2002.000000</td>\n",
       "    </tr>\n",
       "    <tr>\n",
       "      <th>max</th>\n",
       "      <td>135571.000000</td>\n",
       "      <td>97.000000</td>\n",
       "      <td>226.000000</td>\n",
       "      <td>214.000000</td>\n",
       "      <td>2016.000000</td>\n",
       "    </tr>\n",
       "  </tbody>\n",
       "</table>\n",
       "</div>"
      ],
      "text/plain": [
       "                  ID            Age         Height         Weight  \\\n",
       "count  271116.000000  261642.000000  210945.000000  208241.000000   \n",
       "mean    68248.954396      25.556898     175.338970      70.702393   \n",
       "std     39022.286345       6.393561      10.518462      14.348020   \n",
       "min         1.000000      10.000000     127.000000      25.000000   \n",
       "25%     34643.000000      21.000000     168.000000      60.000000   \n",
       "50%     68205.000000      24.000000     175.000000      70.000000   \n",
       "75%    102097.250000      28.000000     183.000000      79.000000   \n",
       "max    135571.000000      97.000000     226.000000     214.000000   \n",
       "\n",
       "                Year  \n",
       "count  271116.000000  \n",
       "mean     1978.378480  \n",
       "std        29.877632  \n",
       "min      1896.000000  \n",
       "25%      1960.000000  \n",
       "50%      1988.000000  \n",
       "75%      2002.000000  \n",
       "max      2016.000000  "
      ]
     },
     "execution_count": 5,
     "metadata": {},
     "output_type": "execute_result"
    }
   ],
   "source": [
    "# Summary statistics for the data frame.\n",
    "olympic_raw_df.describe()"
   ]
  },
  {
   "cell_type": "code",
   "execution_count": 6,
   "metadata": {},
   "outputs": [
    {
     "data": {
      "text/html": [
       "<div>\n",
       "<style scoped>\n",
       "    .dataframe tbody tr th:only-of-type {\n",
       "        vertical-align: middle;\n",
       "    }\n",
       "\n",
       "    .dataframe tbody tr th {\n",
       "        vertical-align: top;\n",
       "    }\n",
       "\n",
       "    .dataframe thead th {\n",
       "        text-align: right;\n",
       "    }\n",
       "</style>\n",
       "<table border=\"1\" class=\"dataframe\">\n",
       "  <thead>\n",
       "    <tr style=\"text-align: right;\">\n",
       "      <th></th>\n",
       "      <th>ID</th>\n",
       "      <th>Age</th>\n",
       "      <th>Height</th>\n",
       "      <th>Weight</th>\n",
       "      <th>Year</th>\n",
       "    </tr>\n",
       "  </thead>\n",
       "  <tbody>\n",
       "    <tr>\n",
       "      <th>count</th>\n",
       "      <td>232344.000000</td>\n",
       "      <td>229138.000000</td>\n",
       "      <td>203996.000000</td>\n",
       "      <td>203266.000000</td>\n",
       "      <td>232344.000000</td>\n",
       "    </tr>\n",
       "    <tr>\n",
       "      <th>mean</th>\n",
       "      <td>68326.449760</td>\n",
       "      <td>25.143503</td>\n",
       "      <td>175.327639</td>\n",
       "      <td>70.662816</td>\n",
       "      <td>1987.848354</td>\n",
       "    </tr>\n",
       "    <tr>\n",
       "      <th>std</th>\n",
       "      <td>39026.858799</td>\n",
       "      <td>5.720776</td>\n",
       "      <td>10.589578</td>\n",
       "      <td>14.387908</td>\n",
       "      <td>19.815354</td>\n",
       "    </tr>\n",
       "    <tr>\n",
       "      <th>min</th>\n",
       "      <td>1.000000</td>\n",
       "      <td>11.000000</td>\n",
       "      <td>127.000000</td>\n",
       "      <td>25.000000</td>\n",
       "      <td>1948.000000</td>\n",
       "    </tr>\n",
       "    <tr>\n",
       "      <th>25%</th>\n",
       "      <td>34801.000000</td>\n",
       "      <td>21.000000</td>\n",
       "      <td>168.000000</td>\n",
       "      <td>60.000000</td>\n",
       "      <td>1972.000000</td>\n",
       "    </tr>\n",
       "    <tr>\n",
       "      <th>50%</th>\n",
       "      <td>68292.500000</td>\n",
       "      <td>24.000000</td>\n",
       "      <td>175.000000</td>\n",
       "      <td>70.000000</td>\n",
       "      <td>1992.000000</td>\n",
       "    </tr>\n",
       "    <tr>\n",
       "      <th>75%</th>\n",
       "      <td>102129.000000</td>\n",
       "      <td>28.000000</td>\n",
       "      <td>183.000000</td>\n",
       "      <td>79.000000</td>\n",
       "      <td>2004.000000</td>\n",
       "    </tr>\n",
       "    <tr>\n",
       "      <th>max</th>\n",
       "      <td>135571.000000</td>\n",
       "      <td>84.000000</td>\n",
       "      <td>226.000000</td>\n",
       "      <td>214.000000</td>\n",
       "      <td>2016.000000</td>\n",
       "    </tr>\n",
       "  </tbody>\n",
       "</table>\n",
       "</div>"
      ],
      "text/plain": [
       "                  ID            Age         Height         Weight  \\\n",
       "count  232344.000000  229138.000000  203996.000000  203266.000000   \n",
       "mean    68326.449760      25.143503     175.327639      70.662816   \n",
       "std     39026.858799       5.720776      10.589578      14.387908   \n",
       "min         1.000000      11.000000     127.000000      25.000000   \n",
       "25%     34801.000000      21.000000     168.000000      60.000000   \n",
       "50%     68292.500000      24.000000     175.000000      70.000000   \n",
       "75%    102129.000000      28.000000     183.000000      79.000000   \n",
       "max    135571.000000      84.000000     226.000000     214.000000   \n",
       "\n",
       "                Year  \n",
       "count  232344.000000  \n",
       "mean     1987.848354  \n",
       "std        19.815354  \n",
       "min      1948.000000  \n",
       "25%      1972.000000  \n",
       "50%      1992.000000  \n",
       "75%      2004.000000  \n",
       "max      2016.000000  "
      ]
     },
     "execution_count": 6,
     "metadata": {},
     "output_type": "execute_result"
    }
   ],
   "source": [
    "# Filter for games after WWII\n",
    "post_war_df = olympic_raw_df[olympic_raw_df[\"Year\"] >= 1948]\n",
    "post_war_df.describe()"
   ]
  },
  {
   "cell_type": "code",
   "execution_count": 7,
   "metadata": {},
   "outputs": [
    {
     "data": {
      "text/html": [
       "<div>\n",
       "<style scoped>\n",
       "    .dataframe tbody tr th:only-of-type {\n",
       "        vertical-align: middle;\n",
       "    }\n",
       "\n",
       "    .dataframe tbody tr th {\n",
       "        vertical-align: top;\n",
       "    }\n",
       "\n",
       "    .dataframe thead th {\n",
       "        text-align: right;\n",
       "    }\n",
       "</style>\n",
       "<table border=\"1\" class=\"dataframe\">\n",
       "  <thead>\n",
       "    <tr style=\"text-align: right;\">\n",
       "      <th></th>\n",
       "      <th>ID</th>\n",
       "      <th>Name</th>\n",
       "      <th>Sex</th>\n",
       "      <th>Age</th>\n",
       "      <th>Height</th>\n",
       "      <th>Weight</th>\n",
       "      <th>Team</th>\n",
       "      <th>NOC</th>\n",
       "      <th>Games</th>\n",
       "      <th>Year</th>\n",
       "      <th>Season</th>\n",
       "      <th>City</th>\n",
       "      <th>Sport</th>\n",
       "      <th>Event</th>\n",
       "      <th>Medal</th>\n",
       "    </tr>\n",
       "  </thead>\n",
       "  <tbody>\n",
       "    <tr>\n",
       "      <th>0</th>\n",
       "      <td>1</td>\n",
       "      <td>A Dijiang</td>\n",
       "      <td>M</td>\n",
       "      <td>24.0</td>\n",
       "      <td>180.0</td>\n",
       "      <td>80.0</td>\n",
       "      <td>China</td>\n",
       "      <td>CHN</td>\n",
       "      <td>1992 Summer</td>\n",
       "      <td>1992</td>\n",
       "      <td>Summer</td>\n",
       "      <td>Barcelona</td>\n",
       "      <td>Basketball</td>\n",
       "      <td>Basketball Men's Basketball</td>\n",
       "      <td>NaN</td>\n",
       "    </tr>\n",
       "    <tr>\n",
       "      <th>1</th>\n",
       "      <td>2</td>\n",
       "      <td>A Lamusi</td>\n",
       "      <td>M</td>\n",
       "      <td>23.0</td>\n",
       "      <td>170.0</td>\n",
       "      <td>60.0</td>\n",
       "      <td>China</td>\n",
       "      <td>CHN</td>\n",
       "      <td>2012 Summer</td>\n",
       "      <td>2012</td>\n",
       "      <td>Summer</td>\n",
       "      <td>London</td>\n",
       "      <td>Judo</td>\n",
       "      <td>Judo Men's Extra-Lightweight</td>\n",
       "      <td>NaN</td>\n",
       "    </tr>\n",
       "    <tr>\n",
       "      <th>29</th>\n",
       "      <td>10</td>\n",
       "      <td>Einar Ferdinand \"Einari\" Aalto</td>\n",
       "      <td>M</td>\n",
       "      <td>26.0</td>\n",
       "      <td>NaN</td>\n",
       "      <td>NaN</td>\n",
       "      <td>Finland</td>\n",
       "      <td>FIN</td>\n",
       "      <td>1952 Summer</td>\n",
       "      <td>1952</td>\n",
       "      <td>Summer</td>\n",
       "      <td>Helsinki</td>\n",
       "      <td>Swimming</td>\n",
       "      <td>Swimming Men's 400 metres Freestyle</td>\n",
       "      <td>NaN</td>\n",
       "    </tr>\n",
       "    <tr>\n",
       "      <th>31</th>\n",
       "      <td>12</td>\n",
       "      <td>Jyri Tapani Aalto</td>\n",
       "      <td>M</td>\n",
       "      <td>31.0</td>\n",
       "      <td>172.0</td>\n",
       "      <td>70.0</td>\n",
       "      <td>Finland</td>\n",
       "      <td>FIN</td>\n",
       "      <td>2000 Summer</td>\n",
       "      <td>2000</td>\n",
       "      <td>Summer</td>\n",
       "      <td>Sydney</td>\n",
       "      <td>Badminton</td>\n",
       "      <td>Badminton Men's Singles</td>\n",
       "      <td>NaN</td>\n",
       "    </tr>\n",
       "    <tr>\n",
       "      <th>32</th>\n",
       "      <td>13</td>\n",
       "      <td>Minna Maarit Aalto</td>\n",
       "      <td>F</td>\n",
       "      <td>30.0</td>\n",
       "      <td>159.0</td>\n",
       "      <td>55.5</td>\n",
       "      <td>Finland</td>\n",
       "      <td>FIN</td>\n",
       "      <td>1996 Summer</td>\n",
       "      <td>1996</td>\n",
       "      <td>Summer</td>\n",
       "      <td>Atlanta</td>\n",
       "      <td>Sailing</td>\n",
       "      <td>Sailing Women's Windsurfer</td>\n",
       "      <td>NaN</td>\n",
       "    </tr>\n",
       "  </tbody>\n",
       "</table>\n",
       "</div>"
      ],
      "text/plain": [
       "    ID                            Name Sex   Age  Height  Weight     Team  \\\n",
       "0    1                       A Dijiang   M  24.0   180.0    80.0    China   \n",
       "1    2                        A Lamusi   M  23.0   170.0    60.0    China   \n",
       "29  10  Einar Ferdinand \"Einari\" Aalto   M  26.0     NaN     NaN  Finland   \n",
       "31  12               Jyri Tapani Aalto   M  31.0   172.0    70.0  Finland   \n",
       "32  13              Minna Maarit Aalto   F  30.0   159.0    55.5  Finland   \n",
       "\n",
       "    NOC        Games  Year  Season       City       Sport  \\\n",
       "0   CHN  1992 Summer  1992  Summer  Barcelona  Basketball   \n",
       "1   CHN  2012 Summer  2012  Summer     London        Judo   \n",
       "29  FIN  1952 Summer  1952  Summer   Helsinki    Swimming   \n",
       "31  FIN  2000 Summer  2000  Summer     Sydney   Badminton   \n",
       "32  FIN  1996 Summer  1996  Summer    Atlanta     Sailing   \n",
       "\n",
       "                                  Event Medal  \n",
       "0           Basketball Men's Basketball   NaN  \n",
       "1          Judo Men's Extra-Lightweight   NaN  \n",
       "29  Swimming Men's 400 metres Freestyle   NaN  \n",
       "31              Badminton Men's Singles   NaN  \n",
       "32           Sailing Women's Windsurfer   NaN  "
      ]
     },
     "execution_count": 7,
     "metadata": {},
     "output_type": "execute_result"
    }
   ],
   "source": [
    "# Filter for winter and summer games\n",
    "summer_post_war_df = post_war_df[post_war_df.Season == \"Summer\"]\n",
    "winter_post_war_df = post_war_df[post_war_df[\"Season\"] == \"Winter\"]\n",
    "summer_post_war_df.head()"
   ]
  },
  {
   "cell_type": "code",
   "execution_count": 8,
   "metadata": {},
   "outputs": [],
   "source": [
    "# Create data frames consisting only of medal winnners.\n",
    "summer_medal_winners_post_war_df = summer_post_war_df[(summer_post_war_df[\"Medal\"] == \"Gold\") |\\\n",
    "                                                      (summer_post_war_df[\"Medal\"] == \"Silver\") |\\\n",
    "                                                      (summer_post_war_df[\"Medal\"] == \"Bronze\")\n",
    "                                                     ]\n",
    "winter_medal_winners_post_war_df = winter_post_war_df[(winter_post_war_df[\"Medal\"] == \"Gold\") |\\\n",
    "                                                      (winter_post_war_df[\"Medal\"] == \"Silver\") |\\\n",
    "                                                      (winter_post_war_df[\"Medal\"] == \"Bronze\")\n",
    "                                                     ]"
   ]
  },
  {
   "cell_type": "code",
   "execution_count": 9,
   "metadata": {},
   "outputs": [
    {
     "data": {
      "text/plain": [
       "<matplotlib.axes._subplots.AxesSubplot at 0x1fbc9088408>"
      ]
     },
     "execution_count": 9,
     "metadata": {},
     "output_type": "execute_result"
    },
    {
     "data": {
      "image/png": "[encoded data removed]",
      "text/plain": [
       "<Figure size 432x288 with 1 Axes>"
      ]
     },
     "metadata": {
      "needs_background": "light"
     },
     "output_type": "display_data"
    }
   ],
   "source": [
    "# Create a simple bar chart of medals won by country in the post war era for the Summer games.\n",
    "country_medal_counts_summer = summer_medal_winners_post_war_df.groupby(\"NOC\")[\"Medal\"].count()\n",
    "high_medals_summer = country_medal_counts_summer[country_medal_counts_summer > 500]\n",
    "high_medals_summer.plot(kind=\"bar\")"
   ]
  },
  {
   "cell_type": "code",
   "execution_count": 10,
   "metadata": {},
   "outputs": [
    {
     "data": {
      "text/plain": [
       "<matplotlib.axes._subplots.AxesSubplot at 0x1fbcba56948>"
      ]
     },
     "execution_count": 10,
     "metadata": {},
     "output_type": "execute_result"
    },
    {
     "data": {
      "image/png": "[encoded data removed]",
      "text/plain": [
       "<Figure size 432x288 with 1 Axes>"
      ]
     },
     "metadata": {
      "needs_background": "light"
     },
     "output_type": "display_data"
    }
   ],
   "source": [
    "# Create a simple bar chart of medals won by country in the post war era for the Winter games.\n",
    "country_medal_counts_winter = winter_medal_winners_post_war_df.groupby(\"NOC\")[\"Medal\"].count()\n",
    "high_medals_winter = country_medal_counts_winter[country_medal_counts_winter > 100]\n",
    "high_medals_winter.plot(kind=\"bar\")"
   ]
  },
  {
   "cell_type": "code",
   "execution_count": 11,
   "metadata": {},
   "outputs": [
    {
     "data": {
      "text/plain": [
       "230"
      ]
     },
     "execution_count": 11,
     "metadata": {},
     "output_type": "execute_result"
    }
   ],
   "source": [
    "# Count countries by NOC.\n",
    "len(olympic_raw_df[\"NOC\"].unique())"
   ]
  },
  {
   "cell_type": "code",
   "execution_count": 61,
   "metadata": {},
   "outputs": [
    {
     "data": {
      "text/html": [
       "<div>\n",
       "<style scoped>\n",
       "    .dataframe tbody tr th:only-of-type {\n",
       "        vertical-align: middle;\n",
       "    }\n",
       "\n",
       "    .dataframe tbody tr th {\n",
       "        vertical-align: top;\n",
       "    }\n",
       "\n",
       "    .dataframe thead th {\n",
       "        text-align: right;\n",
       "    }\n",
       "</style>\n",
       "<table border=\"1\" class=\"dataframe\">\n",
       "  <thead>\n",
       "    <tr style=\"text-align: right;\">\n",
       "      <th></th>\n",
       "      <th>City</th>\n",
       "      <th>Country</th>\n",
       "      <th>Continent</th>\n",
       "      <th>Summer (Olympiad)</th>\n",
       "      <th>Winter</th>\n",
       "      <th>Year</th>\n",
       "      <th>Opening Ceremony</th>\n",
       "      <th>Closing Ceremony</th>\n",
       "    </tr>\n",
       "  </thead>\n",
       "  <tbody>\n",
       "    <tr>\n",
       "      <th>0</th>\n",
       "      <td>Athens</td>\n",
       "      <td>Greece</td>\n",
       "      <td>Europe</td>\n",
       "      <td>I</td>\n",
       "      <td>-</td>\n",
       "      <td>1896.0</td>\n",
       "      <td>April 6</td>\n",
       "      <td>April 15</td>\n",
       "    </tr>\n",
       "    <tr>\n",
       "      <th>1</th>\n",
       "      <td>Paris</td>\n",
       "      <td>France</td>\n",
       "      <td>Europe</td>\n",
       "      <td>II</td>\n",
       "      <td>-</td>\n",
       "      <td>1900.0</td>\n",
       "      <td>May 14</td>\n",
       "      <td>October 28</td>\n",
       "    </tr>\n",
       "    <tr>\n",
       "      <th>2</th>\n",
       "      <td>St. Louis</td>\n",
       "      <td>United States</td>\n",
       "      <td>North America</td>\n",
       "      <td>III</td>\n",
       "      <td>-</td>\n",
       "      <td>1904.0</td>\n",
       "      <td>July 1</td>\n",
       "      <td>November 23</td>\n",
       "    </tr>\n",
       "    <tr>\n",
       "      <th>3</th>\n",
       "      <td>London</td>\n",
       "      <td>United Kingdom</td>\n",
       "      <td>Europe</td>\n",
       "      <td>IV</td>\n",
       "      <td>-</td>\n",
       "      <td>1908.0</td>\n",
       "      <td>April 27</td>\n",
       "      <td>October 31</td>\n",
       "    </tr>\n",
       "    <tr>\n",
       "      <th>4</th>\n",
       "      <td>Stockholm</td>\n",
       "      <td>Sweden</td>\n",
       "      <td>Europe</td>\n",
       "      <td>V</td>\n",
       "      <td>-</td>\n",
       "      <td>1912.0</td>\n",
       "      <td>May 5</td>\n",
       "      <td>July 22</td>\n",
       "    </tr>\n",
       "  </tbody>\n",
       "</table>\n",
       "</div>"
      ],
      "text/plain": [
       "        City         Country      Continent Summer (Olympiad) Winter    Year  \\\n",
       "0     Athens          Greece         Europe                 I      -  1896.0   \n",
       "1      Paris          France         Europe                II      -  1900.0   \n",
       "2  St. Louis   United States  North America               III      -  1904.0   \n",
       "3     London  United Kingdom         Europe                IV      -  1908.0   \n",
       "4  Stockholm          Sweden         Europe                 V      -  1912.0   \n",
       "\n",
       "  Opening Ceremony Closing Ceremony  \n",
       "0          April 6         April 15  \n",
       "1           May 14       October 28  \n",
       "2           July 1      November 23  \n",
       "3         April 27       October 31  \n",
       "4            May 5          July 22  "
      ]
     },
     "execution_count": 61,
     "metadata": {},
     "output_type": "execute_result"
    }
   ],
   "source": [
    "# Find a list of host cities and countries.\n",
    "host_cities_df = pd.read_csv(\"resources/list-host-cities-olympic-943j.csv\")\n",
    "host_cities_df.head()"
   ]
  },
  {
   "cell_type": "code",
   "execution_count": 13,
   "metadata": {},
   "outputs": [
    {
     "data": {
      "image/png": "[encoded data removed]",
      "text/plain": [
       "<Figure size 432x288 with 1 Axes>"
      ]
     },
     "metadata": {
      "needs_background": "light"
     },
     "output_type": "display_data"
    }
   ],
   "source": [
    "# Find which countries have hosted the most games.\n",
    "host_cities_df.groupby(\"Country\")[\"City\"].count().plot(kind=\"bar\")\n",
    "plt.tight_layout()\n",
    "plt.show()"
   ]
  },
  {
   "cell_type": "code",
   "execution_count": 14,
   "metadata": {},
   "outputs": [
    {
     "data": {
      "image/png": "[encoded data removed]",
      "text/plain": [
       "<Figure size 432x288 with 1 Axes>"
      ]
     },
     "metadata": {
      "needs_background": "light"
     },
     "output_type": "display_data"
    }
   ],
   "source": [
    "# Find the number of medals won by each country post war.\n",
    "post_war_medals_df = post_war_df[(post_war_df[\"Medal\"] == \"Gold\") |\\\n",
    "                                 (post_war_df[\"Medal\"] == \"Silver\") |\\\n",
    "                                 (post_war_df[\"Medal\"] == \"Bronze\")\n",
    "                                ]\n",
    "post_war_medals_df.groupby(\"NOC\")[\"Medal\"].count().plot(kind=\"bar\")\n",
    "plt.show()"
   ]
  },
  {
   "cell_type": "code",
   "execution_count": 15,
   "metadata": {},
   "outputs": [
    {
     "data": {
      "text/plain": [
       "NOC\n",
       "AFG     8.461538\n",
       "AHO     5.692308\n",
       "ALB     7.875000\n",
       "ALG    41.461538\n",
       "AND     4.818182\n",
       "Name: ID, dtype: float64"
      ]
     },
     "execution_count": 15,
     "metadata": {},
     "output_type": "execute_result"
    }
   ],
   "source": [
    "# Find the mean size of each summer games team fielded by a country post war.\n",
    "summer_post_war_athlete_count = summer_post_war_df.groupby([\"NOC\", \"Year\"]).count()\n",
    "summer_mean_team_size = summer_post_war_athlete_count[\"ID\"].mean(level=0)\n",
    "summer_mean_team_size.head()"
   ]
  },
  {
   "cell_type": "code",
   "execution_count": 17,
   "metadata": {},
   "outputs": [
    {
     "data": {
      "image/png": "[encoded data removed]",
      "text/plain": [
       "<Figure size 1440x1440 with 1 Axes>"
      ]
     },
     "metadata": {
      "needs_background": "light"
     },
     "output_type": "display_data"
    }
   ],
   "source": [
    "# Make a simple bar chart of mean team size.\n",
    "plt.figure(figsize = (20, 20))\n",
    "summer_mean_team_size[summer_mean_team_size > 200].plot(kind=\"bar\")\n",
    "plt.tight_layout()"
   ]
  },
  {
   "cell_type": "code",
   "execution_count": 20,
   "metadata": {},
   "outputs": [
    {
     "data": {
      "text/plain": [
       "<matplotlib.axes._subplots.AxesSubplot at 0x1fbce1eb208>"
      ]
     },
     "execution_count": 20,
     "metadata": {},
     "output_type": "execute_result"
    },
    {
     "data": {
      "image/png": "[encoded data removed]",
      "text/plain": [
       "<Figure size 432x288 with 1 Axes>"
      ]
     },
     "metadata": {
      "needs_background": "light"
     },
     "output_type": "display_data"
    }
   ],
   "source": [
    "# Can we predict the top five medal winners at the Summer 2020 games?\n",
    "\n",
    "# Create a dataframe counting medals for each country for every summer games since WWII.\n",
    "summer_post_war_medal_count_df = summer_post_war_df.groupby([\"NOC\", \"Year\"])[\"Medal\"].count()\n",
    "summer_post_war_medal_count_df = summer_post_war_medal_count_df.unstack()\n",
    "summer_post_war_medal_count_df = summer_post_war_medal_count_df.fillna(value=0)\n",
    "summer_post_war_medal_count_df = summer_post_war_medal_count_df.transpose()\n",
    "\n",
    "# Filter for only those countries that won many medals in 2016.\n",
    "summer_high_winners_df = summer_post_war_medal_count_df\n",
    "for noc in summer_high_winners_df.columns:\n",
    "    if summer_high_winners_df.loc[2016, noc] < 75:\n",
    "        summer_high_winners_df = summer_high_winners_df.drop(columns = noc)\n",
    "    else:\n",
    "        pass \n",
    "\n",
    "\n",
    "# Create a plot of several prominent countries over the post WWII games.\n",
    "summer_high_winners_df.plot(kind=\"line\")"
   ]
  },
  {
   "cell_type": "code",
   "execution_count": 62,
   "metadata": {},
   "outputs": [
    {
     "data": {
      "image/png": "[encoded data removed]",
      "text/plain": [
       "<Figure size 432x288 with 16 Axes>"
      ]
     },
     "metadata": {
      "needs_background": "light"
     },
     "output_type": "display_data"
    }
   ],
   "source": [
    "# Determine if there is a “host country” advantage and how pronounced that might be.\n",
    "# Try to compare host games to games just before and after and make bar charts of medal counts.\n",
    "\n",
    "# Build a dictionary of country to NOC codes for host countries for post war summer games.\n",
    "country_to_noc = {\"United Kingdom\":\"GBR\",\n",
    "                  \"Finland\":\"FIN\",\n",
    "                  \"Sweden\":\"SWE\",\n",
    "                  \"Australia\":\"AUS\",\n",
    "                  \"Italy\":\"ITA\",\n",
    "                  \"Japan\":\"JPN\",\n",
    "                  \"Mexico\":\"MEX\",\n",
    "                  \"West Germany\":\"GER\",\n",
    "                  \"Canada\":\"CAN\",\n",
    "                  \"Soviet Union\":\"USR\",\n",
    "                  \"United States\":\"USA\",\n",
    "                  \"South Korea\":\"KOR\",\n",
    "                  \"Spain\":\"ESP\",\n",
    "                  \"Greece\":\"GRE\",\n",
    "                  \"China\":\"CHN\",\n",
    "                  \"Brazil\":\"BRA\",\n",
    "                 }\n",
    "\n",
    "# Create a list of post war summer games for which we will run a comparison.\n",
    "years = [1952, 1956, 1960, 1964, 1968, 1972, 1976, 1980, 1984, 1988, 1992, 1996, 2000, 2004, 2008, 2012]\n",
    "\n",
    "# Create an array of supblots, four by four.\n",
    "fig, axes = plt.subplots(4,4)\n",
    "\n",
    "# Loop through the list of years and create a bar chart of the medal count for the host country in the games before, during, and\n",
    "# after hosting.\n",
    "for year in years:\n",
    "    for row_index, row_data in host_cities_df.iterrows():\n",
    "        if (row_data[\"Year\"] == year) & (row_data[\"Summer (Olympiad)\"] != \"-\"):\n",
    "            host_noc = country_to_noc[row_data[\"Country\"]]\n",
    "            axes[years.index(year) // 4, years.index(year) % 4].bar(x=[year - 4,\n",
    "                                                                       year,\n",
    "                                                                       year + 4\n",
    "                                                                      ],\n",
    "                                                                    height=[summer_post_war_medal_count_df.loc[year - 4,\n",
    "                                                                                                               host_noc],\n",
    "                                                                            summer_post_war_medal_count_df.loc[year,\n",
    "                                                                                                               host_noc],\n",
    "                                                                            summer_post_war_medal_count_df.loc[year + 4,\n",
    "                                                                                                               host_noc]\n",
    "                                                                           ]\n",
    "                                                                   )\n",
    "        else:\n",
    "            pass\n",
    "\n",
    "# Display the plots\n",
    "plt.show()"
   ]
  }
 ],
 "metadata": {
  "anaconda-cloud": {},
  "kernelspec": {
   "display_name": "Python 3",
   "language": "python",
   "name": "python3"
  },
  "language_info": {
   "codemirror_mode": {
    "name": "ipython",
    "version": 3
   },
   "file_extension": ".py",
   "mimetype": "text/x-python",
   "name": "python",
   "nbconvert_exporter": "python",
   "pygments_lexer": "ipython3",
   "version": "3.7.5"
  }
 },
 "nbformat": 4,
 "nbformat_minor": 2
}
